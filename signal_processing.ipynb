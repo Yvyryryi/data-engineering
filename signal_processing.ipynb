{
 "cells": [
  {
   "cell_type": "code",
   "execution_count": null,
   "id": "0771a263-fc2f-4d43-9ad1-8470f85e485c",
   "metadata": {},
   "outputs": [],
   "source": [
    "import numpy as np\n",
    "import pandas as pd"
   ]
  },
  {
   "cell_type": "markdown",
   "id": "4157e558-22ca-4e05-ad76-0fa40293cb8a",
   "metadata": {},
   "source": [
    "## Analysing the waves through fourier analysis"
   ]
  },
  {
   "cell_type": "code",
   "execution_count": null,
   "id": "7cba4424-1e49-48b2-8acf-0a291c21dbde",
   "metadata": {},
   "outputs": [],
   "source": [
    "## Analysing the waves through fourier analysis\n"
   ]
  },
  {
   "cell_type": "markdown",
   "id": "49758dc9-b4ea-4b0c-a69f-630d723a5b75",
   "metadata": {},
   "source": [
    "## Analysing the waves through wavelet transform"
   ]
  },
  {
   "cell_type": "code",
   "execution_count": null,
   "id": "bf5fd857-4976-446c-a25c-3e2ee53ef584",
   "metadata": {},
   "outputs": [],
   "source": []
  },
  {
   "cell_type": "markdown",
   "id": "1f28658a-744c-414a-89c3-3e93d717e598",
   "metadata": {},
   "source": [
    "## Analysing the waves through wavelet transform"
   ]
  },
  {
   "cell_type": "code",
   "execution_count": null,
   "id": "fb778ac7-d784-42f6-b25e-03abb6c559b4",
   "metadata": {},
   "outputs": [],
   "source": []
  }
 ],
 "metadata": {
  "kernelspec": {
   "display_name": "Python 3 (ipykernel)",
   "language": "python",
   "name": "python3"
  },
  "language_info": {
   "codemirror_mode": {
    "name": "ipython",
    "version": 3
   },
   "file_extension": ".py",
   "mimetype": "text/x-python",
   "name": "python",
   "nbconvert_exporter": "python",
   "pygments_lexer": "ipython3",
   "version": "3.12.6"
  }
 },
 "nbformat": 4,
 "nbformat_minor": 5
}
