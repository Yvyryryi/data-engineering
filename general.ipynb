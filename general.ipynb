{
 "cells": [
  {
   "cell_type": "code",
   "execution_count": 5,
   "id": "1e6cb89b-2841-4cbf-8da5-e8d95b1b0b7d",
   "metadata": {},
   "outputs": [
    {
     "ename": "ImportError",
     "evalue": "cannot import name 'get_metadata' from 'utils' (/home/main/projects/SpaceApps/data-engineering/utils.py)",
     "output_type": "error",
     "traceback": [
      "\u001b[0;31m---------------------------------------------------------------------------\u001b[0m",
      "\u001b[0;31mImportError\u001b[0m                               Traceback (most recent call last)",
      "Cell \u001b[0;32mIn[5], line 2\u001b[0m\n\u001b[1;32m      1\u001b[0m \u001b[38;5;28;01mfrom\u001b[39;00m \u001b[38;5;21;01mnumpy\u001b[39;00m\u001b[38;5;21;01m.\u001b[39;00m\u001b[38;5;21;01mfft\u001b[39;00m \u001b[38;5;28;01mimport\u001b[39;00m fft\n\u001b[0;32m----> 2\u001b[0m \u001b[38;5;28;01mfrom\u001b[39;00m \u001b[38;5;21;01mutils\u001b[39;00m \u001b[38;5;28;01mimport\u001b[39;00m preprocess_data_sample, get_metadata\n\u001b[1;32m      3\u001b[0m metadata \u001b[38;5;241m=\u001b[39m get_metadata()\n\u001b[1;32m      4\u001b[0m \u001b[38;5;28;01mimport\u001b[39;00m \u001b[38;5;21;01mmatplotlib\u001b[39;00m\u001b[38;5;21;01m.\u001b[39;00m\u001b[38;5;21;01mpyplot\u001b[39;00m \u001b[38;5;28;01mas\u001b[39;00m \u001b[38;5;21;01mplt\u001b[39;00m\n",
      "\u001b[0;31mImportError\u001b[0m: cannot import name 'get_metadata' from 'utils' (/home/main/projects/SpaceApps/data-engineering/utils.py)"
     ]
    }
   ],
   "source": [
    "from numpy.fft import fft\n",
    "from utils import preprocess_data_sample, get_metadata\n",
    "metadata = get_metadata()\n",
    "import matplotlib.pyplot as plt\n",
    "x = []\n",
    "y = [] \n",
    "mean = []\n",
    "\n",
    "for idx in range(len(metadata)):\n",
    "    try:\n",
    "        df, target = preprocess_data_sample(idx)\n",
    "    except FileNotFoundError:\n",
    "        continue\n",
    "    x.append(idx)\n",
    "    v: NDArray = df['v'].resample('s').mean().values\n",
    "    fourier = np.abs(fft(v))\n",
    "    mean.append(fourier.mean())\n",
    "    y.append(fourier[int(target)])\n",
    "\n",
    "plt.plot(\n",
    "    x,\n",
    "    y,\n",
    "    color = 'red'\n",
    ")\n",
    "\n",
    "plt.plot(\n",
    "    x,\n",
    "    mean,\n",
    ")\n",
    "\n",
    "plt.show()"
   ]
  },
  {
   "cell_type": "code",
   "execution_count": null,
   "id": "e5a2b838-2f77-47f4-a5d9-89125969c151",
   "metadata": {},
   "outputs": [],
   "source": []
  }
 ],
 "metadata": {
  "kernelspec": {
   "display_name": "Python 3 (ipykernel)",
   "language": "python",
   "name": "python3"
  },
  "language_info": {
   "codemirror_mode": {
    "name": "ipython",
    "version": 3
   },
   "file_extension": ".py",
   "mimetype": "text/x-python",
   "name": "python",
   "nbconvert_exporter": "python",
   "pygments_lexer": "ipython3",
   "version": "3.12.6"
  }
 },
 "nbformat": 4,
 "nbformat_minor": 5
}
